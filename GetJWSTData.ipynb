{
 "cells": [
  {
   "cell_type": "code",
   "execution_count": 1,
   "metadata": {},
   "outputs": [
    {
     "data": {
      "text/html": [
       "<div><i>Table masked=True length=5265</i>\n",
       "<table id=\"table2335847650144\" class=\"table-striped table-bordered table-condensed\">\n",
       "<thead><tr><th>intentType</th><th>obs_collection</th><th>provenance_name</th><th>instrument_name</th><th>project</th><th>filters</th><th>wavelength_region</th><th>target_name</th><th>target_classification</th><th>obs_id</th><th>s_ra</th><th>s_dec</th><th>dataproduct_type</th><th>proposal_pi</th><th>calib_level</th><th>t_min</th><th>t_max</th><th>t_exptime</th><th>em_min</th><th>em_max</th><th>obs_title</th><th>t_obs_release</th><th>proposal_id</th><th>proposal_type</th><th>sequence_number</th><th>s_region</th><th>jpegURL</th><th>dataURL</th><th>dataRights</th><th>mtFlag</th><th>srcDen</th><th>obsid</th><th>distance</th></tr></thead>\n",
       "<thead><tr><th>str11</th><th>str11</th><th>str12</th><th>str13</th><th>str4</th><th>str13</th><th>str16</th><th>str16</th><th>str40</th><th>str58</th><th>float64</th><th>float64</th><th>str10</th><th>str19</th><th>int64</th><th>float64</th><th>float64</th><th>float64</th><th>float64</th><th>float64</th><th>str153</th><th>float64</th><th>str17</th><th>str8</th><th>int64</th><th>str784</th><th>str120</th><th>str131</th><th>str6</th><th>bool</th><th>float64</th><th>str9</th><th>float64</th></tr></thead>\n",
       "<tr><td>science</td><td>TESS</td><td>SPOC</td><td>Photometer</td><td>TESS</td><td>TESS</td><td>Optical</td><td>TESS FFI</td><td>--</td><td>tess-s0042-2-3</td><td>353.92242695553807</td><td>4.803259112165608</td><td>image</td><td>Ricker, George</td><td>3</td><td>59447.19188436343</td><td>59472.66472148148</td><td>475.199778</td><td>600.0</td><td>1000.0</td><td>--</td><td>59494.0</td><td>N/A</td><td>--</td><td>42</td><td>POLYGON 346.298512 7.796625 356.802466 12.815935 1.7581 1.618758 350.832265 -3.11734 346.298512 7.796625</td><td>--</td><td>--</td><td>PUBLIC</td><td>False</td><td>nan</td><td>63630592</td><td>0.0</td></tr>\n",
       "<tr><td>science</td><td>TESS</td><td>SPOC</td><td>Photometer</td><td>TESS</td><td>TESS</td><td>Optical</td><td>TESS FFI</td><td>--</td><td>tess-s0056-1-4</td><td>353.6963253031744</td><td>11.9777063207434</td><td>image</td><td>Ricker, George</td><td>3</td><td>59824.75674331019</td><td>59852.64352077546</td><td>158.399927</td><td>600.0</td><td>1000.0</td><td>--</td><td>59873.0</td><td>N/A</td><td>--</td><td>56</td><td>POLYGON 350.571436 4.056558 345.540416 14.886088 357.299527 19.745134 1.395119 8.959597 350.571436 4.056558</td><td>--</td><td>--</td><td>PUBLIC</td><td>False</td><td>nan</td><td>100157312</td><td>0.0</td></tr>\n",
       "<tr><td>science</td><td>SPITZER_SHA</td><td>SSC Pipeline</td><td>IRAC</td><td>--</td><td>IRAC1</td><td>INFRARED</td><td>WASP-52sp</td><td>--</td><td>00000316DA00</td><td>348.49483</td><td>8.76128</td><td>image</td><td>Deming, Drake</td><td>2</td><td>57064.4383913</td><td>57064.4383913</td><td>0.0</td><td>3170.0</td><td>3950.0000000000005</td><td>Eclipses of New Giant Exoplanets</td><td>57086.6666666</td><td>NEWECLIPSES_10102</td><td>Spitzer</td><td>51829248</td><td>POLYGON 348.490971 8.754174 348.487625 8.764559 348.498101 8.767888 348.501448 8.757502 348.490971 8.754174</td><td>--</td><td>https://irsa.ipac.caltech.edu/data/SPITZER/SHA/archive/proc/IRAC039300/r51829248/ch1/bcd/SPITZER_I1_51829248_0524_0000_2_bcd.fits</td><td>PUBLIC</td><td>False</td><td>nan</td><td>1735712</td><td>0.0</td></tr>\n",
       "<tr><td>science</td><td>SPITZER_SHA</td><td>SSC Pipeline</td><td>IRAC</td><td>--</td><td>IRAC1</td><td>INFRARED</td><td>WASP-52sp</td><td>--</td><td>00000316DA00</td><td>348.49483</td><td>8.76128</td><td>image</td><td>Deming, Drake</td><td>2</td><td>57064.4713725</td><td>57064.4713725</td><td>0.0</td><td>3170.0</td><td>3950.0000000000005</td><td>Eclipses of New Giant Exoplanets</td><td>57086.6666666</td><td>NEWECLIPSES_10102</td><td>Spitzer</td><td>51829248</td><td>POLYGON 348.490979 8.754175 348.487633 8.76456 348.498109 8.76789 348.501456 8.757504 348.490979 8.754175</td><td>--</td><td>https://irsa.ipac.caltech.edu/data/SPITZER/SHA/archive/proc/IRAC039300/r51829248/ch1/bcd/SPITZER_I1_51829248_0628_0000_2_bcd.fits</td><td>PUBLIC</td><td>False</td><td>nan</td><td>1735712</td><td>0.0</td></tr>\n",
       "<tr><td>science</td><td>SPITZER_SHA</td><td>SSC Pipeline</td><td>IRAC</td><td>--</td><td>IRAC1</td><td>INFRARED</td><td>WASP-52sp</td><td>--</td><td>00000316DA00</td><td>348.49483</td><td>8.76128</td><td>image</td><td>Deming, Drake</td><td>2</td><td>57064.3239078</td><td>57064.3239078</td><td>0.0</td><td>3170.0</td><td>3950.0000000000005</td><td>Eclipses of New Giant Exoplanets</td><td>57086.6666666</td><td>NEWECLIPSES_10102</td><td>Spitzer</td><td>51829248</td><td>POLYGON 348.490968 8.754177 348.487622 8.764562 348.498097 8.767891 348.501445 8.757505 348.490968 8.754177</td><td>--</td><td>https://irsa.ipac.caltech.edu/data/SPITZER/SHA/archive/proc/IRAC039300/r51829248/ch1/bcd/SPITZER_I1_51829248_0163_0000_2_bcd.fits</td><td>PUBLIC</td><td>False</td><td>nan</td><td>1735712</td><td>0.0</td></tr>\n",
       "<tr><td>science</td><td>SPITZER_SHA</td><td>SSC Pipeline</td><td>IRAC</td><td>--</td><td>IRAC1</td><td>INFRARED</td><td>WASP-52sp</td><td>--</td><td>00000316DA00</td><td>348.49483</td><td>8.76128</td><td>image</td><td>Deming, Drake</td><td>2</td><td>57064.4320501</td><td>57064.4320501</td><td>0.0</td><td>3170.0</td><td>3950.0000000000005</td><td>Eclipses of New Giant Exoplanets</td><td>57086.6666666</td><td>NEWECLIPSES_10102</td><td>Spitzer</td><td>51829248</td><td>POLYGON 348.49097 8.754182 348.487624 8.764567 348.4981 8.767897 348.501447 8.75751 348.49097 8.754182</td><td>--</td><td>https://irsa.ipac.caltech.edu/data/SPITZER/SHA/archive/proc/IRAC039300/r51829248/ch1/bcd/SPITZER_I1_51829248_0504_0000_2_bcd.fits</td><td>PUBLIC</td><td>False</td><td>nan</td><td>1735712</td><td>0.0</td></tr>\n",
       "<tr><td>science</td><td>SPITZER_SHA</td><td>SSC Pipeline</td><td>IRAC</td><td>--</td><td>IRAC1</td><td>INFRARED</td><td>WASP-52sp</td><td>--</td><td>00000316DA00</td><td>348.49483</td><td>8.76128</td><td>image</td><td>Deming, Drake</td><td>2</td><td>57064.4082642</td><td>57064.4082642</td><td>0.0</td><td>3170.0</td><td>3950.0000000000005</td><td>Eclipses of New Giant Exoplanets</td><td>57086.6666666</td><td>NEWECLIPSES_10102</td><td>Spitzer</td><td>51829248</td><td>POLYGON 348.49097 8.754181 348.487624 8.764566 348.4981 8.767896 348.501447 8.757509 348.49097 8.754181</td><td>--</td><td>https://irsa.ipac.caltech.edu/data/SPITZER/SHA/archive/proc/IRAC039300/r51829248/ch1/bcd/SPITZER_I1_51829248_0429_0000_2_bcd.fits</td><td>PUBLIC</td><td>False</td><td>nan</td><td>1735712</td><td>0.0</td></tr>\n",
       "<tr><td>science</td><td>SPITZER_SHA</td><td>SSC Pipeline</td><td>IRAC</td><td>--</td><td>IRAC1</td><td>INFRARED</td><td>WASP-52sp</td><td>--</td><td>00000316DA00</td><td>348.49483</td><td>8.76128</td><td>image</td><td>Deming, Drake</td><td>2</td><td>57064.4913541</td><td>57064.4913541</td><td>0.0</td><td>3170.0</td><td>3950.0000000000005</td><td>Eclipses of New Giant Exoplanets</td><td>57086.6666666</td><td>NEWECLIPSES_10102</td><td>Spitzer</td><td>51829248</td><td>POLYGON 348.490978 8.75418 348.487632 8.764565 348.498108 8.767895 348.501455 8.757509 348.490978 8.75418</td><td>--</td><td>https://irsa.ipac.caltech.edu/data/SPITZER/SHA/archive/proc/IRAC039300/r51829248/ch1/bcd/SPITZER_I1_51829248_0691_0000_2_bcd.fits</td><td>PUBLIC</td><td>False</td><td>nan</td><td>1735712</td><td>0.0</td></tr>\n",
       "<tr><td>science</td><td>SPITZER_SHA</td><td>SSC Pipeline</td><td>IRAC</td><td>--</td><td>IRAC1</td><td>INFRARED</td><td>WASP-52sp</td><td>--</td><td>00000316DA00</td><td>348.49483</td><td>8.76128</td><td>image</td><td>Deming, Drake</td><td>2</td><td>57064.438074</td><td>57064.438074</td><td>0.0</td><td>3170.0</td><td>3950.0000000000005</td><td>Eclipses of New Giant Exoplanets</td><td>57086.6666666</td><td>NEWECLIPSES_10102</td><td>Spitzer</td><td>51829248</td><td>POLYGON 348.490972 8.754174 348.487625 8.764559 348.498101 8.767889 348.501448 8.757503 348.490972 8.754174</td><td>--</td><td>https://irsa.ipac.caltech.edu/data/SPITZER/SHA/archive/proc/IRAC039300/r51829248/ch1/bcd/SPITZER_I1_51829248_0523_0000_2_bcd.fits</td><td>PUBLIC</td><td>False</td><td>nan</td><td>1735712</td><td>0.0</td></tr>\n",
       "<tr><td>...</td><td>...</td><td>...</td><td>...</td><td>...</td><td>...</td><td>...</td><td>...</td><td>...</td><td>...</td><td>...</td><td>...</td><td>...</td><td>...</td><td>...</td><td>...</td><td>...</td><td>...</td><td>...</td><td>...</td><td>...</td><td>...</td><td>...</td><td>...</td><td>...</td><td>...</td><td>...</td><td>...</td><td>...</td><td>...</td><td>...</td><td>...</td><td>...</td></tr>\n",
       "<tr><td>science</td><td>HLA</td><td>HLA</td><td>WFC3/IR</td><td>HLA</td><td>G141</td><td>INFRARED</td><td>WASP-52</td><td>--</td><td>hst_14260_06_wfc3_ir_g141_49</td><td>348.49319186251773</td><td>8.765003455092655</td><td>image</td><td>Deming</td><td>2</td><td>57628.56091</td><td>57628.56248</td><td>134.354</td><td>810000000000.0</td><td>2010000000000.0</td><td>--</td><td>57629.0109953</td><td>14260</td><td>HLA</td><td>--</td><td>POLYGON J2000 348.49319020 8.77143810 348.48671730 8.76572180 348.49319350 8.75856880 348.49966640 8.76428500 348.49319020 8.77143810</td><td>https://hla.stsci.edu/cgi-bin/preview.cgi?dataset=hst_14260_06_wfc3_ir_g141_49</td><td>--</td><td>PUBLIC</td><td>--</td><td>nan</td><td>26003340</td><td>0.0</td></tr>\n",
       "<tr><td>science</td><td>HLA</td><td>HLA</td><td>WFC3/IR</td><td>HLA</td><td>G141</td><td>INFRARED</td><td>WASP-52</td><td>--</td><td>hst_14260_06_wfc3_ir_g141_50</td><td>348.49319186251773</td><td>8.765003455092655</td><td>image</td><td>Deming</td><td>2</td><td>57628.76137</td><td>57628.76293</td><td>134.354</td><td>810000000000.0</td><td>2010000000000.0</td><td>--</td><td>57629.0118055</td><td>14260</td><td>HLA</td><td>--</td><td>POLYGON J2000 348.49966640 8.76428500 348.49319020 8.77143810 348.48671730 8.76572180 348.49319350 8.75856880 348.49966640 8.76428500</td><td>https://hla.stsci.edu/cgi-bin/preview.cgi?dataset=hst_14260_06_wfc3_ir_g141_50</td><td>--</td><td>PUBLIC</td><td>--</td><td>nan</td><td>26003341</td><td>0.0</td></tr>\n",
       "<tr><td>science</td><td>HLA</td><td>HLA</td><td>WFC3/IR</td><td>HLA</td><td>G141</td><td>INFRARED</td><td>WASP-52</td><td>--</td><td>hst_14260_06_wfc3_ir_g141_51</td><td>348.4931919125156</td><td>8.765003405090477</td><td>image</td><td>Deming</td><td>2</td><td>57628.57487</td><td>57628.57644</td><td>134.354</td><td>810000000000.0</td><td>2010000000000.0</td><td>--</td><td>57629.01122684</td><td>14260</td><td>HLA</td><td>--</td><td>POLYGON J2000 348.49319030 8.77143790 348.48671750 8.76572170 348.49319360 8.75856890 348.49966630 8.76428500 348.49319030 8.77143790</td><td>https://hla.stsci.edu/cgi-bin/preview.cgi?dataset=hst_14260_06_wfc3_ir_g141_51</td><td>--</td><td>PUBLIC</td><td>--</td><td>nan</td><td>26003342</td><td>0.0</td></tr>\n",
       "<tr><td>science</td><td>HLA</td><td>HLA</td><td>WFC3/IR</td><td>HLA</td><td>G141</td><td>INFRARED</td><td>WASP-52</td><td>--</td><td>hst_14260_06_wfc3_ir_g141_52</td><td>348.49336201251595</td><td>8.765152205089526</td><td>image</td><td>Deming</td><td>2</td><td>57628.78696</td><td>57628.78825</td><td>112.008</td><td>810000000000.0</td><td>2010000000000.0</td><td>--</td><td>57629.01122684</td><td>14260</td><td>HLA</td><td>--</td><td>POLYGON J2000 348.49336040 8.77158660 348.48688770 8.76587050 348.49336360 8.75871780 348.49983630 8.76443380 348.49336040 8.77158660</td><td>https://hla.stsci.edu/cgi-bin/preview.cgi?dataset=hst_14260_06_wfc3_ir_g141_52</td><td>--</td><td>PUBLIC</td><td>--</td><td>nan</td><td>26003343</td><td>0.0</td></tr>\n",
       "<tr><td>science</td><td>HLA</td><td>HLA</td><td>WFC3/IR</td><td>HLA</td><td>G141</td><td>INFRARED</td><td>WASP-52</td><td>--</td><td>hst_14260_06_wfc3_ir_g141_53</td><td>348.49336201251595</td><td>8.765152205089526</td><td>image</td><td>Deming</td><td>2</td><td>57628.65449</td><td>57628.65579</td><td>112.008</td><td>810000000000.0</td><td>2010000000000.0</td><td>--</td><td>57629.01122684</td><td>14260</td><td>HLA</td><td>--</td><td>POLYGON J2000 348.49336040 8.77158660 348.48688770 8.76587050 348.49336360 8.75871780 348.49983630 8.76443380 348.49336040 8.77158660</td><td>https://hla.stsci.edu/cgi-bin/preview.cgi?dataset=hst_14260_06_wfc3_ir_g141_53</td><td>--</td><td>PUBLIC</td><td>--</td><td>nan</td><td>26003344</td><td>0.0</td></tr>\n",
       "<tr><td>science</td><td>HLA</td><td>HLA</td><td>WFC3/IR</td><td>HLA</td><td>G141</td><td>INFRARED</td><td>WASP-52</td><td>--</td><td>hst_14260_06_wfc3_ir_g141_54</td><td>348.49319201251706</td><td>8.765003305089492</td><td>image</td><td>Deming</td><td>2</td><td>57628.58418</td><td>57628.58574</td><td>134.354</td><td>810000000000.0</td><td>2010000000000.0</td><td>--</td><td>57629.0109953</td><td>14260</td><td>HLA</td><td>--</td><td>POLYGON J2000 348.49966630 8.76428490 348.49319040 8.77143770 348.48671770 8.76572160 348.49319360 8.75856890 348.49966630 8.76428490</td><td>https://hla.stsci.edu/cgi-bin/preview.cgi?dataset=hst_14260_06_wfc3_ir_g141_54</td><td>--</td><td>PUBLIC</td><td>--</td><td>nan</td><td>26003345</td><td>0.0</td></tr>\n",
       "<tr><td>science</td><td>HLA</td><td>HLA</td><td>WFC3/IR</td><td>HLA</td><td>G141</td><td>INFRARED</td><td>WASP-52</td><td>--</td><td>hst_14260_06_wfc3_ir_g141_55</td><td>348.49319186251773</td><td>8.765003455092655</td><td>image</td><td>Deming</td><td>2</td><td>57628.75904</td><td>57628.7606</td><td>134.354</td><td>810000000000.0</td><td>2010000000000.0</td><td>--</td><td>57629.01175924</td><td>14260</td><td>HLA</td><td>--</td><td>POLYGON J2000 348.48671730 8.76572180 348.49319350 8.75856880 348.49966640 8.76428500 348.49319020 8.77143810 348.48671730 8.76572180</td><td>https://hla.stsci.edu/cgi-bin/preview.cgi?dataset=hst_14260_06_wfc3_ir_g141_55</td><td>--</td><td>PUBLIC</td><td>--</td><td>nan</td><td>26003346</td><td>0.0</td></tr>\n",
       "<tr><td>science</td><td>HLA</td><td>HLA</td><td>WFC3/IR</td><td>HLA</td><td>DETECTION</td><td>--</td><td>WASP-52</td><td>--</td><td>hst_14260_06_wfc3_ir_total</td><td>348.4948302501198</td><td>8.761050300000955</td><td>image</td><td>Deming</td><td>3</td><td>57628.55971</td><td>57628.56005</td><td>29.6638</td><td>nan</td><td>nan</td><td>--</td><td>57629.01109947</td><td>14260</td><td>HLA</td><td>--</td><td>POLYGON J2000 348.50154120 8.76030840 348.49482360 8.76774910 348.48811920 8.76179210 348.49483690 8.75435150 348.50154120 8.76030840</td><td>https://hla.stsci.edu/cgi-bin/preview.cgi?dataset=hst_14260_06_wfc3_ir_total</td><td>--</td><td>PUBLIC</td><td>--</td><td>nan</td><td>26059348</td><td>0.0</td></tr>\n",
       "<tr><td>science</td><td>GALEX</td><td>AIS</td><td>GALEX</td><td>AIS</td><td>NUV</td><td>UV</td><td>AIS_148_1_96</td><td>--</td><td>6376123145635495936</td><td>348.95843377974893</td><td>9.28885965324056</td><td>image</td><td>--</td><td>2</td><td>52916.294918981475</td><td>54701.76945601852</td><td>318.0</td><td>169300000000.0</td><td>300700000000.0</td><td>--</td><td>55358.07059028</td><td>--</td><td>AIS</td><td>--</td><td>CIRCLE ICRS 348.95843378   9.28885965 0.625</td><td>http://galex.stsci.edu/data/GR6/pipe/02-vsn/50148-AIS_148/d/01-main/0001-img/07-try/qa/AIS_148_sg96-xd-int_2color.jpg</td><td>http://galex.stsci.edu/data/GR6/pipe/02-vsn/50148-AIS_148/d/01-main/0001-img/07-try/AIS_148_sg96-xd-mcat.fits.gz</td><td>PUBLIC</td><td>--</td><td>5885.0</td><td>19774</td><td>272.93822793379377</td></tr>\n",
       "<tr><td>science</td><td>GALEX</td><td>AIS</td><td>GALEX</td><td>AIS</td><td>FUV</td><td>UV</td><td>AIS_148_1_96</td><td>--</td><td>6376123145635495936</td><td>348.95843377974893</td><td>9.28885965324056</td><td>image</td><td>--</td><td>2</td><td>52916.294918981475</td><td>54701.76945601852</td><td>240.0</td><td>134000000000.0</td><td>180600000000.0</td><td>--</td><td>55358.07059028</td><td>--</td><td>AIS</td><td>--</td><td>CIRCLE ICRS 348.95843378   9.28885965 0.625</td><td>http://galex.stsci.edu/data/GR6/pipe/02-vsn/50148-AIS_148/d/01-main/0001-img/07-try/qa/AIS_148_sg96-xd-int_2color.jpg</td><td>http://galex.stsci.edu/data/GR6/pipe/02-vsn/50148-AIS_148/d/01-main/0001-img/07-try/AIS_148_sg96-fd-exp.fits.gz</td><td>PUBLIC</td><td>--</td><td>5885.0</td><td>19774</td><td>272.93822793379377</td></tr>\n",
       "</table></div>"
      ],
      "text/plain": [
       "<Table masked=True length=5265>\n",
       "intentType obs_collection provenance_name ...   obsid        distance     \n",
       "  str11        str11           str12      ...    str9        float64      \n",
       "---------- -------------- --------------- ... --------- ------------------\n",
       "   science           TESS            SPOC ...  63630592                0.0\n",
       "   science           TESS            SPOC ... 100157312                0.0\n",
       "   science    SPITZER_SHA    SSC Pipeline ...   1735712                0.0\n",
       "   science    SPITZER_SHA    SSC Pipeline ...   1735712                0.0\n",
       "   science    SPITZER_SHA    SSC Pipeline ...   1735712                0.0\n",
       "   science    SPITZER_SHA    SSC Pipeline ...   1735712                0.0\n",
       "   science    SPITZER_SHA    SSC Pipeline ...   1735712                0.0\n",
       "   science    SPITZER_SHA    SSC Pipeline ...   1735712                0.0\n",
       "   science    SPITZER_SHA    SSC Pipeline ...   1735712                0.0\n",
       "       ...            ...             ... ...       ...                ...\n",
       "   science            HLA             HLA ...  26003340                0.0\n",
       "   science            HLA             HLA ...  26003341                0.0\n",
       "   science            HLA             HLA ...  26003342                0.0\n",
       "   science            HLA             HLA ...  26003343                0.0\n",
       "   science            HLA             HLA ...  26003344                0.0\n",
       "   science            HLA             HLA ...  26003345                0.0\n",
       "   science            HLA             HLA ...  26003346                0.0\n",
       "   science            HLA             HLA ...  26059348                0.0\n",
       "   science          GALEX             AIS ...     19774 272.93822793379377\n",
       "   science          GALEX             AIS ...     19774 272.93822793379377"
      ]
     },
     "execution_count": 1,
     "metadata": {},
     "output_type": "execute_result"
    }
   ],
   "source": [
    "from astroquery.mast import Observations\n",
    "\n",
    "#Observations.list_missions()\n",
    "Observations.query_object(\"WASP-52b\")"
   ]
  },
  {
   "cell_type": "code",
   "execution_count": 2,
   "metadata": {},
   "outputs": [
    {
     "data": {
      "text/html": [
       "<div><i>Table masked=True length=1091</i>\n",
       "<table id=\"table2335847656672\" class=\"table-striped table-bordered table-condensed\">\n",
       "<thead><tr><th>obsID</th><th>obs_collection</th><th>dataproduct_type</th><th>obs_id</th><th>description</th><th>type</th><th>dataURI</th><th>productType</th><th>productGroupDescription</th><th>productSubGroupDescription</th><th>productDocumentationURL</th><th>project</th><th>prvversion</th><th>proposal_id</th><th>productFilename</th><th>size</th><th>parent_obsid</th><th>dataRights</th><th>calib_level</th><th>filters</th></tr></thead>\n",
       "<thead><tr><th>str9</th><th>str4</th><th>str8</th><th>str50</th><th>str64</th><th>str1</th><th>str81</th><th>str9</th><th>str28</th><th>str13</th><th>str1</th><th>str7</th><th>str6</th><th>str4</th><th>str63</th><th>int64</th><th>str9</th><th>str6</th><th>int64</th><th>str13</th></tr></thead>\n",
       "<tr><td>101762838</td><td>JWST</td><td>image</td><td>jw01201501001_02101_00004-seg001_nis</td><td>FGS1 guide star acquisition</td><td>S</td><td>mast:JWST/product/jw01201501001_gs-acq1_2022331065252_stream.fits</td><td>AUXILIARY</td><td>--</td><td>GS-ACQ1</td><td>--</td><td>CALJWST</td><td>--</td><td>1201</td><td>jw01201501001_gs-acq1_2022331065252_stream.fits</td><td>408960</td><td>101762940</td><td>PUBLIC</td><td>1</td><td>CLEAR;GR700XD</td></tr>\n",
       "<tr><td>101762838</td><td>JWST</td><td>image</td><td>jw01201501001_02101_00004-seg001_nis</td><td>FGS1 guide star acquisition</td><td>S</td><td>mast:JWST/product/jw01201501001_gs-acq1_2022331065252_uncal.fits</td><td>AUXILIARY</td><td>--</td><td>GS-ACQ1</td><td>--</td><td>CALJWST</td><td>--</td><td>1201</td><td>jw01201501001_gs-acq1_2022331065252_uncal.fits</td><td>420480</td><td>101762940</td><td>PUBLIC</td><td>1</td><td>CLEAR;GR700XD</td></tr>\n",
       "<tr><td>101762838</td><td>JWST</td><td>image</td><td>jw01201501001_02101_00004-seg001_nis</td><td>FGS1 guide star acquisition</td><td>S</td><td>mast:JWST/product/jw01201501001_gs-acq1_2022331065338_stream.fits</td><td>AUXILIARY</td><td>--</td><td>GS-ACQ1</td><td>--</td><td>CALJWST</td><td>--</td><td>1201</td><td>jw01201501001_gs-acq1_2022331065338_stream.fits</td><td>408960</td><td>101762940</td><td>PUBLIC</td><td>1</td><td>CLEAR;GR700XD</td></tr>\n",
       "<tr><td>101762838</td><td>JWST</td><td>image</td><td>jw01201501001_02101_00004-seg001_nis</td><td>FGS1 guide star acquisition</td><td>S</td><td>mast:JWST/product/jw01201501001_gs-acq1_2022331065338_uncal.fits</td><td>AUXILIARY</td><td>--</td><td>GS-ACQ1</td><td>--</td><td>CALJWST</td><td>--</td><td>1201</td><td>jw01201501001_gs-acq1_2022331065338_uncal.fits</td><td>420480</td><td>101762940</td><td>PUBLIC</td><td>1</td><td>CLEAR;GR700XD</td></tr>\n",
       "<tr><td>101762838</td><td>JWST</td><td>image</td><td>jw01201501001_02101_00004-seg001_nis</td><td>FGS1 guide star acquisition</td><td>S</td><td>mast:JWST/product/jw01201501001_gs-acq1_2022331065252_cal.fits</td><td>AUXILIARY</td><td>--</td><td>GS-ACQ1</td><td>--</td><td>CALJWST</td><td>1.8.2</td><td>1201</td><td>jw01201501001_gs-acq1_2022331065252_cal.fits</td><td>1284480</td><td>101762940</td><td>PUBLIC</td><td>2</td><td>CLEAR;GR700XD</td></tr>\n",
       "<tr><td>101762838</td><td>JWST</td><td>image</td><td>jw01201501001_02101_00004-seg001_nis</td><td>FGS1 guide star acquisition</td><td>S</td><td>mast:JWST/product/jw01201501001_gs-acq1_2022331065338_cal.fits</td><td>AUXILIARY</td><td>--</td><td>GS-ACQ1</td><td>--</td><td>CALJWST</td><td>1.8.2</td><td>1201</td><td>jw01201501001_gs-acq1_2022331065338_cal.fits</td><td>1284480</td><td>101762940</td><td>PUBLIC</td><td>2</td><td>CLEAR;GR700XD</td></tr>\n",
       "<tr><td>101762838</td><td>JWST</td><td>image</td><td>jw01201501001_02101_00004-seg001_nis</td><td>FGS2 guide star acquisition</td><td>S</td><td>mast:JWST/product/jw01201501001_gs-acq2_2022331065254_stream.fits</td><td>AUXILIARY</td><td>--</td><td>GS-ACQ2</td><td>--</td><td>CALJWST</td><td>--</td><td>1201</td><td>jw01201501001_gs-acq2_2022331065254_stream.fits</td><td>37440</td><td>101762940</td><td>PUBLIC</td><td>1</td><td>CLEAR;GR700XD</td></tr>\n",
       "<tr><td>101762838</td><td>JWST</td><td>image</td><td>jw01201501001_02101_00004-seg001_nis</td><td>FGS2 guide star acquisition</td><td>S</td><td>mast:JWST/product/jw01201501001_gs-acq2_2022331065254_uncal.fits</td><td>AUXILIARY</td><td>--</td><td>GS-ACQ2</td><td>--</td><td>CALJWST</td><td>--</td><td>1201</td><td>jw01201501001_gs-acq2_2022331065254_uncal.fits</td><td>48960</td><td>101762940</td><td>PUBLIC</td><td>1</td><td>CLEAR;GR700XD</td></tr>\n",
       "<tr><td>101762838</td><td>JWST</td><td>image</td><td>jw01201501001_02101_00004-seg001_nis</td><td>FGS2 guide star acquisition</td><td>S</td><td>mast:JWST/product/jw01201501001_gs-acq2_2022331065340_stream.fits</td><td>AUXILIARY</td><td>--</td><td>GS-ACQ2</td><td>--</td><td>CALJWST</td><td>--</td><td>1201</td><td>jw01201501001_gs-acq2_2022331065340_stream.fits</td><td>37440</td><td>101762940</td><td>PUBLIC</td><td>1</td><td>CLEAR;GR700XD</td></tr>\n",
       "<tr><td>...</td><td>...</td><td>...</td><td>...</td><td>...</td><td>...</td><td>...</td><td>...</td><td>...</td><td>...</td><td>...</td><td>...</td><td>...</td><td>...</td><td>...</td><td>...</td><td>...</td><td>...</td><td>...</td><td>...</td></tr>\n",
       "<tr><td>208239126</td><td>JWST</td><td>spectrum</td><td>jw01224-o004_t004_nirspec_clear-prism-sub512s</td><td>source/target (L3) : association generator</td><td>D</td><td>mast:JWST/product/jw01224-o004_20241029t142753_tso3_00001_asn.json</td><td>INFO</td><td>Minimum Recommended Products</td><td>ASN</td><td>--</td><td>CALJWST</td><td>1.15.1</td><td>1224</td><td>jw01224-o004_20241029t142753_tso3_00001_asn.json</td><td>4063</td><td>208239126</td><td>PUBLIC</td><td>3</td><td>CLEAR;PRISM</td></tr>\n",
       "<tr><td>208239126</td><td>JWST</td><td>spectrum</td><td>jw01224-o004_t004_nirspec_clear-prism-sub512s</td><td>source/target (L3) : association pool</td><td>D</td><td>mast:JWST/product/jw01224_20241029t142753_pool.csv</td><td>INFO</td><td>Minimum Recommended Products</td><td>POOL</td><td>--</td><td>CALJWST</td><td>1.15.1</td><td>1224</td><td>jw01224_20241029t142753_pool.csv</td><td>19999</td><td>208239126</td><td>PUBLIC</td><td>3</td><td>CLEAR;PRISM</td></tr>\n",
       "<tr><td>208239126</td><td>JWST</td><td>spectrum</td><td>jw01224-o004_t004_nirspec_clear-prism-sub512s</td><td>Preview-Full</td><td>D</td><td>mast:JWST/product/jw01224-o004_t004_nirspec_clear-prism-sub512s_x1dints.png</td><td>PREVIEW</td><td>--</td><td>--</td><td>--</td><td>CALJWST</td><td>1.15.1</td><td>1224</td><td>jw01224-o004_t004_nirspec_clear-prism-sub512s_x1dints.png</td><td>2385</td><td>208239126</td><td>PUBLIC</td><td>3</td><td>CLEAR;PRISM</td></tr>\n",
       "<tr><td>208239126</td><td>JWST</td><td>spectrum</td><td>jw01224-o004_t004_nirspec_clear-prism-sub512s</td><td>target   (L3) : spectroscopic white-light curve</td><td>D</td><td>mast:JWST/product/jw01224-o004_t004_nirspec_clear-prism-sub512s_whtlt.ecsv</td><td>SCIENCE</td><td>Minimum Recommended Products</td><td>WHTLT</td><td>--</td><td>CALJWST</td><td>1.15.1</td><td>1224</td><td>jw01224-o004_t004_nirspec_clear-prism-sub512s_whtlt.ecsv</td><td>1076922</td><td>208239126</td><td>PUBLIC</td><td>3</td><td>CLEAR;PRISM</td></tr>\n",
       "<tr><td>208239126</td><td>JWST</td><td>spectrum</td><td>jw01224-o004_t004_nirspec_clear-prism-sub512s</td><td>exposure/target (L2b/L3): 1D extracted spectrum per integration</td><td>D</td><td>mast:JWST/product/jw01224-o004_t004_nirspec_clear-prism-sub512s_x1dints.fits</td><td>SCIENCE</td><td>Minimum Recommended Products</td><td>X1DINTS</td><td>--</td><td>CALJWST</td><td>1.15.1</td><td>1224</td><td>jw01224-o004_t004_nirspec_clear-prism-sub512s_x1dints.fits</td><td>2309898240</td><td>208239126</td><td>PUBLIC</td><td>3</td><td>CLEAR;PRISM</td></tr>\n",
       "<tr><td>208614148</td><td>JWST</td><td>spectrum</td><td>jw03969-o003_t002_nirspec_f290lp-g395h-sub2048</td><td>source/target (L3) : association generator</td><td>D</td><td>mast:JWST/product/jw03969-o003_20241103t043353_tso3_00001_asn.json</td><td>INFO</td><td>Minimum Recommended Products</td><td>ASN</td><td>--</td><td>CALJWST</td><td>1.15.1</td><td>3969</td><td>jw03969-o003_20241103t043353_tso3_00001_asn.json</td><td>4334</td><td>208614148</td><td>PUBLIC</td><td>3</td><td>F290LP;G395H</td></tr>\n",
       "<tr><td>208614148</td><td>JWST</td><td>spectrum</td><td>jw03969-o003_t002_nirspec_f290lp-g395h-sub2048</td><td>source/target (L3) : association pool</td><td>D</td><td>mast:JWST/product/jw03969_20241103t043353_pool.csv</td><td>INFO</td><td>Minimum Recommended Products</td><td>POOL</td><td>--</td><td>CALJWST</td><td>1.15.1</td><td>3969</td><td>jw03969_20241103t043353_pool.csv</td><td>30615</td><td>208614148</td><td>PUBLIC</td><td>3</td><td>F290LP;G395H</td></tr>\n",
       "<tr><td>208614148</td><td>JWST</td><td>spectrum</td><td>jw03969-o003_t002_nirspec_f290lp-g395h-sub2048</td><td>Preview-Full</td><td>D</td><td>mast:JWST/product/jw03969-o003_t002_nirspec_f290lp-g395h-sub2048_x1dints.png</td><td>PREVIEW</td><td>--</td><td>--</td><td>--</td><td>CALJWST</td><td>1.15.1</td><td>3969</td><td>jw03969-o003_t002_nirspec_f290lp-g395h-sub2048_x1dints.png</td><td>2385</td><td>208614148</td><td>PUBLIC</td><td>3</td><td>F290LP;G395H</td></tr>\n",
       "<tr><td>208614148</td><td>JWST</td><td>spectrum</td><td>jw03969-o003_t002_nirspec_f290lp-g395h-sub2048</td><td>target   (L3) : spectroscopic white-light curve</td><td>D</td><td>mast:JWST/product/jw03969-o003_t002_nirspec_f290lp-g395h-sub2048_whtlt.ecsv</td><td>SCIENCE</td><td>Minimum Recommended Products</td><td>WHTLT</td><td>--</td><td>CALJWST</td><td>1.15.1</td><td>3969</td><td>jw03969-o003_t002_nirspec_f290lp-g395h-sub2048_whtlt.ecsv</td><td>46153</td><td>208614148</td><td>PUBLIC</td><td>3</td><td>F290LP;G395H</td></tr>\n",
       "<tr><td>208614148</td><td>JWST</td><td>spectrum</td><td>jw03969-o003_t002_nirspec_f290lp-g395h-sub2048</td><td>exposure/target (L2b/L3): 1D extracted spectrum per integration</td><td>D</td><td>mast:JWST/product/jw03969-o003_t002_nirspec_f290lp-g395h-sub2048_x1dints.fits</td><td>SCIENCE</td><td>Minimum Recommended Products</td><td>X1DINTS</td><td>--</td><td>CALJWST</td><td>1.15.1</td><td>3969</td><td>jw03969-o003_t002_nirspec_f290lp-g395h-sub2048_x1dints.fits</td><td>328870080</td><td>208614148</td><td>PUBLIC</td><td>3</td><td>F290LP;G395H</td></tr>\n",
       "</table></div>"
      ],
      "text/plain": [
       "<Table masked=True length=1091>\n",
       "  obsID   obs_collection dataproduct_type ... calib_level    filters   \n",
       "   str9        str4            str8       ...    int64        str13    \n",
       "--------- -------------- ---------------- ... ----------- -------------\n",
       "101762838           JWST            image ...           1 CLEAR;GR700XD\n",
       "101762838           JWST            image ...           1 CLEAR;GR700XD\n",
       "101762838           JWST            image ...           1 CLEAR;GR700XD\n",
       "101762838           JWST            image ...           1 CLEAR;GR700XD\n",
       "101762838           JWST            image ...           2 CLEAR;GR700XD\n",
       "101762838           JWST            image ...           2 CLEAR;GR700XD\n",
       "101762838           JWST            image ...           1 CLEAR;GR700XD\n",
       "101762838           JWST            image ...           1 CLEAR;GR700XD\n",
       "101762838           JWST            image ...           1 CLEAR;GR700XD\n",
       "      ...            ...              ... ...         ...           ...\n",
       "208239126           JWST         spectrum ...           3   CLEAR;PRISM\n",
       "208239126           JWST         spectrum ...           3   CLEAR;PRISM\n",
       "208239126           JWST         spectrum ...           3   CLEAR;PRISM\n",
       "208239126           JWST         spectrum ...           3   CLEAR;PRISM\n",
       "208239126           JWST         spectrum ...           3   CLEAR;PRISM\n",
       "208614148           JWST         spectrum ...           3  F290LP;G395H\n",
       "208614148           JWST         spectrum ...           3  F290LP;G395H\n",
       "208614148           JWST         spectrum ...           3  F290LP;G395H\n",
       "208614148           JWST         spectrum ...           3  F290LP;G395H\n",
       "208614148           JWST         spectrum ...           3  F290LP;G395H"
      ]
     },
     "execution_count": 2,
     "metadata": {},
     "output_type": "execute_result"
    }
   ],
   "source": [
    "from astroquery.mast import Observations\n",
    "\n",
    "#Observations.list_missions()\n",
    "data = Observations.query_criteria(\n",
    "    pagesize=100, \n",
    "    page=1, \n",
    "    dataproduct_type=\"spectrum\", \n",
    "    project=\"JWST\", \n",
    "    #instrument_name=\"NIRISS/SOSS\",\n",
    "    intentType = \"science\",\n",
    "    target_name = \"WASP-52\"\n",
    "\n",
    ")\n",
    "data_products = Observations.get_product_list(data)\n",
    "data_products"
   ]
  },
  {
   "cell_type": "code",
   "execution_count": 5,
   "metadata": {},
   "outputs": [
    {
     "data": {
      "text/html": [
       "<div><i>Table masked=True length=6</i>\n",
       "<table id=\"table2335584175488\" class=\"table-striped table-bordered table-condensed\">\n",
       "<thead><tr><th>obsID</th><th>obs_collection</th><th>dataproduct_type</th><th>obs_id</th><th>description</th><th>type</th><th>dataURI</th><th>productType</th><th>productGroupDescription</th><th>productSubGroupDescription</th><th>productDocumentationURL</th><th>project</th><th>prvversion</th><th>proposal_id</th><th>productFilename</th><th>size</th><th>parent_obsid</th><th>dataRights</th><th>calib_level</th><th>filters</th></tr></thead>\n",
       "<thead><tr><th>str9</th><th>str4</th><th>str8</th><th>str50</th><th>str64</th><th>str1</th><th>str81</th><th>str9</th><th>str28</th><th>str13</th><th>str1</th><th>str7</th><th>str6</th><th>str4</th><th>str63</th><th>int64</th><th>str9</th><th>str6</th><th>int64</th><th>str13</th></tr></thead>\n",
       "<tr><td>101762940</td><td>JWST</td><td>spectrum</td><td>jw01201-o501_t017_niriss_clear-gr700xd-substrip256</td><td>target   (L3) : spectroscopic white-light curve</td><td>D</td><td>mast:JWST/product/jw01201-o501_t017_niriss_clear-gr700xd-substrip256_whtlt.ecsv</td><td>SCIENCE</td><td>Minimum Recommended Products</td><td>WHTLT</td><td>--</td><td>CALJWST</td><td>1.15.1</td><td>1201</td><td>jw01201-o501_t017_niriss_clear-gr700xd-substrip256_whtlt.ecsv</td><td>29449</td><td>101762940</td><td>PUBLIC</td><td>3</td><td>CLEAR;GR700XD</td></tr>\n",
       "<tr><td>101762940</td><td>JWST</td><td>spectrum</td><td>jw01201-o501_t017_niriss_clear-gr700xd-substrip256</td><td>exposure/target (L2b/L3): 1D extracted spectrum per integration</td><td>D</td><td>mast:JWST/product/jw01201-o501_t017_niriss_clear-gr700xd-substrip256_x1dints.fits</td><td>SCIENCE</td><td>Minimum Recommended Products</td><td>X1DINTS</td><td>--</td><td>CALJWST</td><td>1.15.1</td><td>1201</td><td>jw01201-o501_t017_niriss_clear-gr700xd-substrip256_x1dints.fits</td><td>234823680</td><td>101762940</td><td>PUBLIC</td><td>3</td><td>CLEAR;GR700XD</td></tr>\n",
       "<tr><td>208239126</td><td>JWST</td><td>spectrum</td><td>jw01224-o004_t004_nirspec_clear-prism-sub512s</td><td>target   (L3) : spectroscopic white-light curve</td><td>D</td><td>mast:JWST/product/jw01224-o004_t004_nirspec_clear-prism-sub512s_whtlt.ecsv</td><td>SCIENCE</td><td>Minimum Recommended Products</td><td>WHTLT</td><td>--</td><td>CALJWST</td><td>1.15.1</td><td>1224</td><td>jw01224-o004_t004_nirspec_clear-prism-sub512s_whtlt.ecsv</td><td>1076922</td><td>208239126</td><td>PUBLIC</td><td>3</td><td>CLEAR;PRISM</td></tr>\n",
       "<tr><td>208239126</td><td>JWST</td><td>spectrum</td><td>jw01224-o004_t004_nirspec_clear-prism-sub512s</td><td>exposure/target (L2b/L3): 1D extracted spectrum per integration</td><td>D</td><td>mast:JWST/product/jw01224-o004_t004_nirspec_clear-prism-sub512s_x1dints.fits</td><td>SCIENCE</td><td>Minimum Recommended Products</td><td>X1DINTS</td><td>--</td><td>CALJWST</td><td>1.15.1</td><td>1224</td><td>jw01224-o004_t004_nirspec_clear-prism-sub512s_x1dints.fits</td><td>2309898240</td><td>208239126</td><td>PUBLIC</td><td>3</td><td>CLEAR;PRISM</td></tr>\n",
       "<tr><td>208614148</td><td>JWST</td><td>spectrum</td><td>jw03969-o003_t002_nirspec_f290lp-g395h-sub2048</td><td>target   (L3) : spectroscopic white-light curve</td><td>D</td><td>mast:JWST/product/jw03969-o003_t002_nirspec_f290lp-g395h-sub2048_whtlt.ecsv</td><td>SCIENCE</td><td>Minimum Recommended Products</td><td>WHTLT</td><td>--</td><td>CALJWST</td><td>1.15.1</td><td>3969</td><td>jw03969-o003_t002_nirspec_f290lp-g395h-sub2048_whtlt.ecsv</td><td>46153</td><td>208614148</td><td>PUBLIC</td><td>3</td><td>F290LP;G395H</td></tr>\n",
       "<tr><td>208614148</td><td>JWST</td><td>spectrum</td><td>jw03969-o003_t002_nirspec_f290lp-g395h-sub2048</td><td>exposure/target (L2b/L3): 1D extracted spectrum per integration</td><td>D</td><td>mast:JWST/product/jw03969-o003_t002_nirspec_f290lp-g395h-sub2048_x1dints.fits</td><td>SCIENCE</td><td>Minimum Recommended Products</td><td>X1DINTS</td><td>--</td><td>CALJWST</td><td>1.15.1</td><td>3969</td><td>jw03969-o003_t002_nirspec_f290lp-g395h-sub2048_x1dints.fits</td><td>328870080</td><td>208614148</td><td>PUBLIC</td><td>3</td><td>F290LP;G395H</td></tr>\n",
       "</table></div>"
      ],
      "text/plain": [
       "<Table masked=True length=6>\n",
       "  obsID   obs_collection dataproduct_type ... calib_level    filters   \n",
       "   str9        str4            str8       ...    int64        str13    \n",
       "--------- -------------- ---------------- ... ----------- -------------\n",
       "101762940           JWST         spectrum ...           3 CLEAR;GR700XD\n",
       "101762940           JWST         spectrum ...           3 CLEAR;GR700XD\n",
       "208239126           JWST         spectrum ...           3   CLEAR;PRISM\n",
       "208239126           JWST         spectrum ...           3   CLEAR;PRISM\n",
       "208614148           JWST         spectrum ...           3  F290LP;G395H\n",
       "208614148           JWST         spectrum ...           3  F290LP;G395H"
      ]
     },
     "execution_count": 5,
     "metadata": {},
     "output_type": "execute_result"
    }
   ],
   "source": [
    "products = Observations.filter_products(data_products, dataproduct_type=\"spectrum\", productType=\"SCIENCE\", calib_level=[3])\n",
    "products\n",
    "#print(products[\"dataURI\"])\n",
    "#Observations.download_file(products[-3][\"dataURI\"])#, local_path=\"./data/wasp39/\")"
   ]
  },
  {
   "cell_type": "code",
   "execution_count": null,
   "metadata": {},
   "outputs": [],
   "source": []
  }
 ],
 "metadata": {
  "kernelspec": {
   "display_name": ".venv",
   "language": "python",
   "name": "python3"
  },
  "language_info": {
   "codemirror_mode": {
    "name": "ipython",
    "version": 3
   },
   "file_extension": ".py",
   "mimetype": "text/x-python",
   "name": "python",
   "nbconvert_exporter": "python",
   "pygments_lexer": "ipython3",
   "version": "3.10.5"
  }
 },
 "nbformat": 4,
 "nbformat_minor": 2
}
